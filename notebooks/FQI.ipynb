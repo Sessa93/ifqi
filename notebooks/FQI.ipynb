{
 "cells": [
  {
   "cell_type": "markdown",
   "metadata": {},
   "source": [
    "## Preparing the Environment"
   ]
  },
  {
   "cell_type": "code",
   "execution_count": 20,
   "metadata": {
    "collapsed": false
   },
   "outputs": [],
   "source": [
    "from __future__ import print_function\n",
    "import numpy as np\n",
    "\n",
    "from ifqi import envs\n",
    "from ifqi.evaluation import evaluation\n",
    "from ifqi.algorithms.fqi.FQI import FQI\n",
    "\n",
    "from scipy.optimize import curve_fit"
   ]
  },
  {
   "cell_type": "code",
   "execution_count": 22,
   "metadata": {
    "collapsed": true
   },
   "outputs": [],
   "source": [
    "mdp = envs.LQG1D()\n",
    "state_dim, action_dim, reward_dim = envs.get_space_info(mdp)\n",
    "reward_idx = state_dim + action_dim\n",
    "discrete_actions = np.array([-8, -7, -6, -5, -4, -3, -2.5, -2, -1.5, -1, -.75,\n",
    "                             -.5, -.25, 0, .25, .5, .75, 1, 1.5, 2, 2.5, 3, 4,\n",
    "                             5, 6, 7, 8])\n",
    "dataset = evaluation.collect_episodes(mdp, n_episodes=1000)\n",
    "sast = np.append(dataset[:, :reward_idx],\n",
    "                 dataset[:, reward_idx + reward_dim:-1],\n",
    "                 axis=1)\n",
    "r = dataset[:, reward_idx]"
   ]
  },
  {
   "cell_type": "markdown",
   "metadata": {},
   "source": [
    "## Learning with FQI and `curve_fit`"
   ]
  },
  {
   "cell_type": "code",
   "execution_count": 56,
   "metadata": {
    "collapsed": false
   },
   "outputs": [],
   "source": [
    "class Regressor:\n",
    "    __slots__ = ('b', 'k')\n",
    "    \n",
    "    def __init__(self, b=0, k=0):\n",
    "        self.b = b\n",
    "        self.k = k\n",
    "    \n",
    "    def fit(self, X, y):\n",
    "        #print(\"fitting: \", end='')\n",
    "        (self.b, self.k), pcov = curve_fit(self.Q, X, y)\n",
    "        #print(self.b, self.k)\n",
    "    \n",
    "    def Q(self, sa, b, k):\n",
    "        return b - (sa[:, 1] - k *  sa[:, 0]) ** 2\n",
    "    \n",
    "    def predict(self, X):\n",
    "        return self.Q(X, self.b, self.k)\n",
    "\n",
    "regressor = Regressor()"
   ]
  },
  {
   "cell_type": "code",
   "execution_count": 57,
   "metadata": {
    "collapsed": false
   },
   "outputs": [],
   "source": [
    "fqi = FQI(estimator=regressor,\n",
    "          state_dim=state_dim,\n",
    "          action_dim=action_dim,\n",
    "          discrete_actions=discrete_actions,\n",
    "          gamma=mdp.gamma,\n",
    "          horizon=mdp.horizon,\n",
    "          scaled=False,\n",
    "          features=None,\n",
    "          verbose=False)"
   ]
  },
  {
   "cell_type": "code",
   "execution_count": 58,
   "metadata": {
    "collapsed": false
   },
   "outputs": [],
   "source": [
    "fqi.fit(sast, r)"
   ]
  },
  {
   "cell_type": "code",
   "execution_count": 59,
   "metadata": {
    "collapsed": false
   },
   "outputs": [],
   "source": [
    "initial_states = np.array([[1, 1]]).T"
   ]
  },
  {
   "cell_type": "code",
   "execution_count": 61,
   "metadata": {
    "collapsed": false
   },
   "outputs": [
    {
     "name": "stdout",
     "output_type": "stream",
     "text": [
      "(-9015855.9401270039, 12382.475403956161, 100.0, 0.0)\n"
     ]
    }
   ],
   "source": [
    "values = evaluation.evaluate_policy(mdp, fqi, initial_states=initial_states)\n",
    "print(values)"
   ]
  },
  {
   "cell_type": "markdown",
   "metadata": {},
   "source": [
    "## Trying to evaluate Optimal Policy"
   ]
  },
  {
   "cell_type": "code",
   "execution_count": 52,
   "metadata": {
    "collapsed": false
   },
   "outputs": [
    {
     "data": {
      "text/plain": [
       "-0.61525124566301148"
      ]
     },
     "execution_count": 52,
     "metadata": {},
     "output_type": "execute_result"
    }
   ],
   "source": [
    "K = mdp.computeOptimalK()[0][0]\n",
    "K"
   ]
  },
  {
   "cell_type": "code",
   "execution_count": 51,
   "metadata": {
    "collapsed": true
   },
   "outputs": [],
   "source": [
    "class OptimalPolicy:\n",
    "    \n",
    "    def draw_action(self, states, absorbing, evaluation=False):\n",
    "        print(\"states: {} action: {}\".format(states, K*states))\n",
    "        return K*states\n",
    "    \n",
    "optimalP = GreedyPolicy()\n"
   ]
  },
  {
   "cell_type": "code",
   "execution_count": 54,
   "metadata": {
    "collapsed": false
   },
   "outputs": [
    {
     "name": "stdout",
     "output_type": "stream",
     "text": [
      "states: [1] action: [-0.61525125]\n",
      "states: [ 0.12029013] action: [-0.07400865]\n",
      "states: [ 0.13699011] action: [-0.08428333]\n",
      "states: [-0.19216612] action: [ 0.11823045]\n",
      "states: [-0.09065101] action: [ 0.05577315]\n",
      "states: [-0.00419045] action: [ 0.00257818]\n",
      "states: [ 0.02360065] action: [-0.01452033]\n",
      "states: [-0.03120313] action: [ 0.01919776]\n",
      "states: [-0.06247402] action: [ 0.03843722]\n",
      "states: [-0.13703919] action: [ 0.08431353]\n",
      "states: [ 0.05855304] action: [-0.03602483]\n",
      "states: [ 0.03248986] action: [-0.01998943]\n",
      "states: [ 0.08308602] action: [-0.05111878]\n",
      "states: [ 0.14233431] action: [-0.08757136]\n",
      "states: [-0.00937366] action: [ 0.00576716]\n",
      "states: [ 0.0273491] action: [-0.01682657]\n",
      "states: [ 0.05986723] action: [-0.03683339]\n",
      "states: [-0.07149178] action: [ 0.0439854]\n",
      "states: [-0.1099668] action: [ 0.06765721]\n",
      "states: [-0.00808528] action: [ 0.00497448]\n",
      "states: [ 0.032561] action: [-0.02003319]\n",
      "states: [-0.00997175] action: [ 0.00613513]\n",
      "states: [ 0.03884567] action: [-0.02389985]\n",
      "states: [-0.11940035] action: [ 0.07346121]\n",
      "states: [ 0.02071078] action: [-0.01274234]\n",
      "states: [-0.03039307] action: [ 0.01869937]\n",
      "states: [ 0.05144381] action: [-0.03165087]\n",
      "states: [ 0.11359449] action: [-0.06988915]\n",
      "states: [-0.00661635] action: [ 0.00407072]\n",
      "states: [-0.02619392] action: [ 0.01611584]\n",
      "states: [-0.08972205] action: [ 0.0552016]\n",
      "states: [ 0.01091295] action: [-0.0067142]\n",
      "states: [ 0.15101418] action: [-0.09291166]\n",
      "states: [-0.09827012] action: [ 0.06046081]\n",
      "states: [-0.16035088] action: [ 0.09865608]\n",
      "states: [ 0.01515383] action: [-0.00932341]\n",
      "states: [ 0.13706243] action: [-0.08432783]\n",
      "states: [ 0.20094017] action: [-0.12362869]\n",
      "states: [ 0.17576235] action: [-0.10813801]\n",
      "states: [ 0.12565584] action: [-0.07730991]\n",
      "states: [-0.03402115] action: [ 0.02093155]\n",
      "states: [ 0.01052072] action: [-0.00647289]\n",
      "states: [-0.04497065] action: [ 0.02766825]\n",
      "states: [ 0.13160049] action: [-0.08096737]\n",
      "states: [ 0.13408743] action: [-0.08249746]\n",
      "states: [-0.03482054] action: [ 0.02142338]\n",
      "states: [ 0.03800904] action: [-0.02338511]\n",
      "states: [-0.10448562] action: [ 0.06428491]\n",
      "states: [ 0.08237498] action: [-0.05068131]\n",
      "states: [ 0.08999453] action: [-0.05536925]\n",
      "states: [ 0.00578533] action: [-0.00355943]\n",
      "states: [ 0.0502146] action: [-0.0308946]\n",
      "states: [ 0.02207987] action: [-0.01358467]\n",
      "states: [ 0.10301066] action: [-0.06337744]\n",
      "states: [ 0.14185103] action: [-0.08727402]\n",
      "states: [ 0.01228275] action: [-0.00755698]\n",
      "states: [ 0.0487508] action: [-0.02999399]\n",
      "states: [-0.03677837] action: [ 0.02262794]\n",
      "states: [-0.04722769] action: [ 0.0290569]\n",
      "states: [-0.00171091] action: [ 0.00105264]\n",
      "states: [ 0.1263136] action: [-0.0777146]\n",
      "states: [ 0.18453525] action: [-0.11353554]\n",
      "states: [ 0.17502809] action: [-0.10768625]\n",
      "states: [-0.0440511] action: [ 0.02710249]\n",
      "states: [-0.02382289] action: [ 0.01465706]\n",
      "states: [ 0.01519808] action: [-0.00935064]\n",
      "states: [-0.04833526] action: [ 0.02973833]\n",
      "states: [ 0.05920823] action: [-0.03642794]\n",
      "states: [ 0.02133724] action: [-0.01312776]\n",
      "states: [ 0.11001533] action: [-0.06768707]\n",
      "states: [ 0.09895547] action: [-0.06088248]\n",
      "states: [ 0.18004636] action: [-0.11077374]\n",
      "states: [-0.06980301] action: [ 0.04294639]\n",
      "states: [-0.04650232] action: [ 0.02861061]\n",
      "states: [-0.07408974] action: [ 0.0455838]\n",
      "states: [-0.04099431] action: [ 0.0252218]\n",
      "states: [ 0.00907472] action: [-0.00558324]\n",
      "states: [ 0.03895156] action: [-0.023965]\n",
      "states: [-0.07311545] action: [ 0.04498437]\n",
      "states: [-0.08310821] action: [ 0.05113243]\n",
      "states: [-0.01666956] action: [ 0.01025597]\n",
      "states: [-0.19396168] action: [ 0.11933517]\n",
      "states: [-0.19130922] action: [ 0.11770324]\n",
      "states: [-0.03492262] action: [ 0.02148619]\n",
      "states: [ 0.17126321] action: [-0.1053699]\n",
      "states: [-0.04980698] action: [ 0.03064381]\n",
      "states: [-0.14876137] action: [ 0.09152562]\n",
      "states: [ 0.09461121] action: [-0.05820966]\n",
      "states: [ 0.00294186] action: [-0.00180998]\n",
      "states: [-0.11524177] action: [ 0.07090265]\n",
      "states: [-0.06102045] action: [ 0.03754291]\n",
      "states: [ 0.14549779] action: [-0.08951769]\n",
      "states: [ 0.11180626] action: [-0.06878894]\n",
      "states: [ 0.01566295] action: [-0.00963665]\n",
      "states: [ 0.07150355] action: [-0.04399265]\n",
      "states: [-0.09945894] action: [ 0.06119224]\n",
      "states: [-0.13240628] action: [ 0.08146313]\n",
      "states: [-0.14571553] action: [ 0.08965166]\n",
      "states: [-0.01676742] action: [ 0.01031618]\n",
      "states: [-0.06048966] action: [ 0.03721634]\n",
      "states: [1] action: [-0.61525125]\n",
      "states: [ 0.38054733] action: [-0.23413222]\n",
      "states: [ 0.05507167] action: [-0.03388291]\n",
      "states: [ 0.08276435] action: [-0.05092087]\n",
      "states: [ 0.01788511] action: [-0.01100384]\n",
      "states: [-0.1900994] action: [ 0.11695889]\n",
      "states: [-0.05091248] action: [ 0.03132397]\n",
      "states: [-0.20745442] action: [ 0.12763659]\n",
      "states: [-0.14389101] action: [ 0.08852912]\n",
      "states: [ 0.04612019] action: [-0.0283755]\n",
      "states: [-0.12512877] action: [ 0.07698563]\n",
      "states: [ 0.0510915] action: [-0.03143411]\n",
      "states: [ 0.15813474] action: [-0.0972926]\n",
      "states: [ 0.22016007] action: [-0.13545375]\n",
      "states: [ 0.07044289] action: [-0.04334007]\n",
      "states: [-0.03676363] action: [ 0.02261887]\n",
      "states: [-0.02886979] action: [ 0.01776218]\n",
      "states: [ 0.18142811] action: [-0.11162387]\n",
      "states: [ 0.13640302] action: [-0.08392213]\n",
      "states: [-0.09333862] action: [ 0.0574267]\n",
      "states: [ 0.09248233] action: [-0.05689987]\n",
      "states: [-0.0307105] action: [ 0.01889468]\n",
      "states: [ 0.12704934] action: [-0.07816726]\n",
      "states: [-0.00247694] action: [ 0.00152394]\n",
      "states: [-0.03776224] action: [ 0.02323327]\n",
      "states: [-0.25738563] action: [ 0.15835683]\n",
      "states: [ 0.02753725] action: [-0.01694233]\n",
      "states: [-0.04835983] action: [ 0.02975344]\n",
      "states: [-0.19483787] action: [ 0.11987424]\n",
      "states: [-0.19318494] action: [ 0.11885728]\n",
      "states: [ 0.11101046] action: [-0.06829932]\n",
      "states: [ 0.01752606] action: [-0.01078293]\n",
      "states: [-0.0075071] action: [ 0.00461875]\n",
      "states: [ 0.19027245] action: [-0.11706536]\n",
      "states: [ 0.09837287] action: [-0.06052403]\n",
      "states: [-0.03661847] action: [ 0.02252956]\n",
      "states: [ 0.06930836] action: [-0.04264206]\n",
      "states: [-0.00210991] action: [ 0.00129813]\n",
      "states: [-0.02115639] action: [ 0.0130165]\n",
      "states: [ 0.09755544] action: [-0.06002111]\n",
      "states: [ 0.05023546] action: [-0.03090743]\n",
      "states: [-0.07143597] action: [ 0.04395107]\n",
      "states: [-0.18147499] action: [ 0.11165272]\n",
      "states: [-0.05648667] action: [ 0.0347535]\n",
      "states: [-0.03977984] action: [ 0.0244746]\n",
      "states: [ 0.12998004] action: [-0.07997038]\n",
      "states: [-0.0697039] action: [ 0.04288541]\n",
      "states: [-0.12178399] action: [ 0.07492775]\n",
      "states: [ 0.01860482] action: [-0.01144664]\n",
      "states: [-0.10232566] action: [ 0.06295599]\n",
      "states: [-0.06275014] action: [ 0.0386071]\n",
      "states: [ 0.07780853] action: [-0.04787179]\n",
      "states: [ 0.07374729] action: [-0.04537311]\n",
      "states: [ 0.02569971] action: [-0.01581178]\n",
      "states: [-0.07527338] action: [ 0.04631204]\n",
      "states: [ 0.1513032] action: [-0.09308948]\n",
      "states: [ 0.09207595] action: [-0.05664984]\n",
      "states: [-0.04443142] action: [ 0.02733649]\n",
      "states: [-0.26138743] action: [ 0.16081894]\n",
      "states: [ 0.07124485] action: [-0.04383348]\n",
      "states: [ 0.09377514] action: [-0.05769527]\n",
      "states: [ 0.08572505] action: [-0.05274244]\n",
      "states: [ 0.26328352] action: [-0.16198551]\n",
      "states: [ 0.00274913] action: [-0.0016914]\n",
      "states: [-0.02432675] action: [ 0.01496707]\n",
      "states: [ 0.13427404] action: [-0.08261227]\n",
      "states: [ 0.06961404] action: [-0.04283012]\n",
      "states: [ 0.22142753] action: [-0.13623356]\n",
      "states: [-0.01625838] action: [ 0.01000299]\n",
      "states: [ 0.05019294] action: [-0.03088127]\n",
      "states: [ 0.11346094] action: [-0.06980699]\n",
      "states: [-0.07669471] action: [ 0.04718652]\n",
      "states: [-0.05923226] action: [ 0.03644272]\n",
      "states: [-0.13313386] action: [ 0.08191077]\n",
      "states: [-0.04793621] action: [ 0.02949282]\n",
      "states: [ 0.0445618] action: [-0.0274167]\n",
      "states: [ 0.05195207] action: [-0.03196357]\n",
      "states: [ 0.0172854] action: [-0.01063487]\n",
      "states: [ 0.05310999] action: [-0.03267599]\n",
      "states: [-0.10448791] action: [ 0.06428632]\n",
      "states: [-0.11543117] action: [ 0.07101917]\n",
      "states: [ 0.01875759] action: [-0.01154063]\n",
      "states: [ 0.06100971] action: [-0.0375363]\n",
      "states: [-0.05853838] action: [ 0.03601581]\n",
      "states: [ 0.09891485] action: [-0.06085748]\n",
      "states: [-0.20450335] action: [ 0.12582094]\n",
      "states: [-0.09505903] action: [ 0.05848519]\n",
      "states: [-0.23188055] action: [ 0.1426648]\n",
      "states: [-0.11636224] action: [ 0.07159201]\n",
      "states: [-0.039782] action: [ 0.02447593]\n",
      "states: [-0.18475421] action: [ 0.11367026]\n",
      "states: [-0.03125859] action: [ 0.01923188]\n",
      "states: [-0.05338237] action: [ 0.03284357]\n",
      "states: [-0.09285015] action: [ 0.05712617]\n",
      "states: [-0.04963788] action: [ 0.03053976]\n",
      "states: [ 0.09445987] action: [-0.05811655]\n",
      "states: [ 0.03706856] action: [-0.02280648]\n",
      "states: [ 0.1094761] action: [-0.06735531]\n",
      "states: [ 0.20714951] action: [-0.127449]\n",
      "states: [ 0.09839486] action: [-0.06053756]\n",
      "(-2.1594150998618238, 0.33630337382361319, 100.0, 0.0)\n"
     ]
    }
   ],
   "source": [
    "values = evaluation.evaluate_policy(mdp, greedyP, initial_states=initial_states)\n",
    "print(values)"
   ]
  }
 ],
 "metadata": {
  "kernelspec": {
   "display_name": "Python 3",
   "language": "python",
   "name": "python3"
  },
  "language_info": {
   "codemirror_mode": {
    "name": "ipython",
    "version": 3
   },
   "file_extension": ".py",
   "mimetype": "text/x-python",
   "name": "python",
   "nbconvert_exporter": "python",
   "pygments_lexer": "ipython3",
   "version": "3.5.2+"
  }
 },
 "nbformat": 4,
 "nbformat_minor": 1
}
